{
 "cells": [
  {
   "cell_type": "markdown",
   "metadata": {},
   "source": [
    "___\n",
    "\n",
    "<a href='https://mainacademy.ua/'> <img src='https://mainacademy.ua/wp-content/uploads/2019/03/logo-main.png' alt = 'Хмм, щось з інтернетом'/></a>\n",
    "___\n",
    "\n",
    "# Module 2: Basic Python"
   ]
  },
  {
   "cell_type": "markdown",
   "metadata": {},
   "source": [
    "## Lab work 2.1\n",
    "\n"
   ]
  },
  {
   "cell_type": "markdown",
   "metadata": {},
   "source": [
    "#### Мета: \n",
    "\n",
    "* навчитися працювати із основними типами та структурами даних в Python;\n",
    "* ознайомитися із базовими алгоритмами;"
   ]
  },
  {
   "cell_type": "markdown",
   "metadata": {},
   "source": [
    "#### Завдання 1"
   ]
  },
  {
   "cell_type": "markdown",
   "metadata": {},
   "source": [
    "Обчислити площу трикутника, коли відома сторона та проведена висота до неї"
   ]
  },
  {
   "cell_type": "code",
   "execution_count": 2,
   "metadata": {},
   "outputs": [
    {
     "name": "stdout",
     "output_type": "stream",
     "text": [
      "Введіть довжину сторони трикутника: 15\n",
      "Введіть довжину висоти, опущеної до цієї сторони: 20\n",
      "Площа трикутника з довжиною сторони 15 та проведеною до неї висотою 20 дорівнює 150.0\n"
     ]
    }
   ],
   "source": [
    "a = int(input('Введіть довжину сторони трикутника: '))\n",
    "h = int(input('Введіть довжину висоти, опущеної до цієї сторони: '))\n",
    "s = 1/2*a*h\n",
    "print(f'Площа трикутника з довжиною сторони {a} та проведеною до неї висотою {h} дорівнює {s}')\n",
    "\n"
   ]
  },
  {
   "cell_type": "markdown",
   "metadata": {},
   "source": [
    "#### Завдання 2"
   ]
  },
  {
   "cell_type": "markdown",
   "metadata": {},
   "source": [
    "Дано трицифрове число. Виведіть окремо кожну цифру числа та суми цифр число\n",
    "\n",
    "Реалізуйте завдання двома способами (використовуючи стрічки та оператори `%`, `//`)"
   ]
  },
  {
   "cell_type": "code",
   "execution_count": 23,
   "metadata": {},
   "outputs": [
    {
     "name": "stdout",
     "output_type": "stream",
     "text": [
      "Введіть трицифрове число: 123\n",
      "1, 2, 3\n",
      "6\n"
     ]
    }
   ],
   "source": [
    "N = input('Введіть трицифрове число: ')\n",
    "list_numbers = []\n",
    "list_numbers.append(int(N[0]))\n",
    "list_numbers.append(int(N[1]))\n",
    "list_numbers.append(int(N[2]))\n",
    "print(*list_numbers, sep=', ')\n",
    "print(sum(list_numbers))\n",
    "\n"
   ]
  },
  {
   "cell_type": "code",
   "execution_count": 21,
   "metadata": {},
   "outputs": [
    {
     "name": "stdout",
     "output_type": "stream",
     "text": [
      "Введіть трицифрове число: 123\n",
      "Окремі складові цифри числа: 1, 2, 3\n",
      "Сума складових чисел: 6\n"
     ]
    }
   ],
   "source": [
    "N = int(input('Введіть трицифрове число: '))\n",
    "first_digit = N//100\n",
    "second_digit =N%100//10\n",
    "last_digit =N%10\n",
    "\n",
    "print(f'Окремі складові цифри числа: {first_digit}, {second_digit}, {last_digit}')\n",
    "print(f'Сума складових чисел: {first_digit + second_digit + last_digit}')\n",
    "\n"
   ]
  },
  {
   "cell_type": "markdown",
   "metadata": {},
   "source": [
    "#### Завдання 3"
   ]
  },
  {
   "cell_type": "markdown",
   "metadata": {},
   "source": [
    "Дано речення (стрічка). \n",
    "* Розбийте речення по словах і помістіть їх у список. \n",
    "* Виведіть кількість слів у речені.\n",
    "* Утворіть нове речення, що складається з першого та останнього слова із початкового речення."
   ]
  },
  {
   "cell_type": "code",
   "execution_count": 7,
   "metadata": {},
   "outputs": [],
   "source": [
    "sentence = 'My favourite tutor in academy is Ihor'"
   ]
  },
  {
   "cell_type": "code",
   "execution_count": 11,
   "metadata": {},
   "outputs": [
    {
     "name": "stdout",
     "output_type": "stream",
     "text": [
      "['My', 'favourite', 'tutor', 'in', 'academy', 'is', 'Ihor']\n"
     ]
    }
   ],
   "source": [
    "list_of_sentence = sentence.split(' ')\n",
    "print(list_of_sentence)"
   ]
  },
  {
   "cell_type": "code",
   "execution_count": 12,
   "metadata": {},
   "outputs": [
    {
     "name": "stdout",
     "output_type": "stream",
     "text": [
      "7\n"
     ]
    }
   ],
   "source": [
    "print(len(list_of_sentence))"
   ]
  },
  {
   "cell_type": "code",
   "execution_count": 13,
   "metadata": {},
   "outputs": [
    {
     "name": "stdout",
     "output_type": "stream",
     "text": [
      "My Ihor\n"
     ]
    }
   ],
   "source": [
    "print(list_of_sentence[0] + \" \" + list_of_sentence[6])"
   ]
  },
  {
   "cell_type": "markdown",
   "metadata": {},
   "source": [
    "#### Завдання 4"
   ]
  },
  {
   "cell_type": "markdown",
   "metadata": {},
   "source": [
    "Перевірте, чи справджується формула: $$ sin^2x + cos^2x = 1$$\n",
    "\n",
    "Напишіть код, що реалізує цю формулу. Нагадую, що тригонометричні функції приймають аргументи в радіанній мірі"
   ]
  },
  {
   "cell_type": "code",
   "execution_count": 6,
   "metadata": {},
   "outputs": [
    {
     "name": "stdout",
     "output_type": "stream",
     "text": [
      "Перевірте, чи 𝑠𝑖𝑛^2*𝑥+𝑐𝑜𝑠^2*𝑥 = 1 за будь-яких значень `x`.\n",
      "Введіть значення `x` у радіанах: 1.0472\n",
      "Значення 𝑠𝑖𝑛^2*𝑥+𝑐𝑜𝑠^2*𝑥 за `x` = 1.0472 дорівнює 1.0\n"
     ]
    }
   ],
   "source": [
    "import numpy as np\n",
    "import math\n",
    "\n",
    "\n",
    "x = float(input('Перевірте, чи 𝑠𝑖𝑛^2*𝑥+𝑐𝑜𝑠^2*𝑥 = 1 за будь-яких значень `x`.\\nВведіть значення `x` у радіанах: '))\n",
    "test_sum = math.sin(x)**2 + math.cos(x)**2\n",
    "print(f'Значення 𝑠𝑖𝑛^2*𝑥+𝑐𝑜𝑠^2*𝑥 за `x` = {x} дорівнює {test_sum}')\n",
    "\n"
   ]
  },
  {
   "cell_type": "markdown",
   "metadata": {},
   "source": [
    "#### Завдання 5"
   ]
  },
  {
   "cell_type": "markdown",
   "metadata": {},
   "source": [
    "Напишіть програму для обчислення коренів квадратного рівняння.\n",
    "\n",
    "Нагадую, що `n`-го степеня має `n` коренів. (Корені можуть бути комплексні)"
   ]
  },
  {
   "cell_type": "code",
   "execution_count": 19,
   "metadata": {},
   "outputs": [
    {
     "name": "stdout",
     "output_type": "stream",
     "text": [
      "Для знаходження коренів рівняння ax^2 + bx + c = 0 введіть значення чисел 'a', 'b', 'c' :\n",
      "Введіть значення 'a': 1\n",
      "Введіть значення 'b': 2\n",
      "Введіть значення 'c': 3\n",
      "У даного квадратного рівняння два кореня:\n",
      "(-1-1.4142135623730951j)\n",
      "(-1+1.4142135623730951j)\n"
     ]
    }
   ],
   "source": [
    "import cmath\n",
    "\n",
    "print(\"Для знаходження коренів рівняння ax^2 + bx + c = 0 введіть значення чисел 'a', 'b', 'c' :\")\n",
    "a = int(input(\"Введіть значення 'a': \"))\n",
    "b = int(input(\"Введіть значення 'b': \"))\n",
    "c = int(input(\"Введіть значення 'c': \"))\n",
    "\n",
    "if a != 0:\n",
    "    discrim = (b**2) - (4*a*c)\n",
    "    if discrim == 0:\n",
    "        print(\"У даного квадратного рівняння один корінь: \")\n",
    "        print(-b/(2*a))     \n",
    "    else:\n",
    "        print(\"У даного квадратного рівняння два кореня:\")\n",
    "        print((-b - cmath.sqrt(discrim))/(2*a))\n",
    "        print((-b + cmath.sqrt(discrim))/(2*a))       \n",
    "else:\n",
    "    print(\"'a' у квадратному рівнянні не має дорівнювати нулю\")\n",
    "    \n"
   ]
  },
  {
   "cell_type": "markdown",
   "metadata": {},
   "source": [
    "#### Завдання 6"
   ]
  },
  {
   "cell_type": "markdown",
   "metadata": {},
   "source": [
    "Напишіть програму, що виводить речення: <i>\"Діаметр планети `Planet` дорівнює` Diament`\"</i>, \n",
    "\n",
    "де `Planet` та `Diament` вводить користувач"
   ]
  },
  {
   "cell_type": "code",
   "execution_count": 4,
   "metadata": {},
   "outputs": [
    {
     "name": "stdout",
     "output_type": "stream",
     "text": [
      "Введіть назву планети: Земля\n",
      "Введіть діаметр планети: 12742\n",
      "Діаметр планети Земля дорівнює 12742 км\n"
     ]
    }
   ],
   "source": [
    "Planet = input('Введіть назву планети: ')\n",
    "Diametr = int(input('Введіть діаметр планети: '))\n",
    "print(f'Діаметр планети {Planet} дорівнює {Diametr} км')"
   ]
  },
  {
   "cell_type": "code",
   "execution_count": null,
   "metadata": {},
   "outputs": [],
   "source": []
  }
 ],
 "metadata": {
  "kernelspec": {
   "display_name": "Python 3 (ipykernel)",
   "language": "python",
   "name": "python3"
  },
  "language_info": {
   "codemirror_mode": {
    "name": "ipython",
    "version": 3
   },
   "file_extension": ".py",
   "mimetype": "text/x-python",
   "name": "python",
   "nbconvert_exporter": "python",
   "pygments_lexer": "ipython3",
   "version": "3.9.13"
  }
 },
 "nbformat": 4,
 "nbformat_minor": 2
}
