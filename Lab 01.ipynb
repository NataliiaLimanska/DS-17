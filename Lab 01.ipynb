{
 "cells":[
  {
   "cell_type":"markdown",
   "source":[
    "# 1. Markdown cells\n",
    "- Hi! Its Main Academy?\n",
    "- All HTML tabs are supported\n",
    "- Моя сторінка на лінкедін [Лінкедін](https:\/\/www.linkedin.com\/in\/nataliya-limanska-a229b492\/) "
   ],
   "attachments":{
    
   },
   "metadata":{
    "datalore":{
     "node_id":"H329YcBOzy4tIKYz3Txvp4",
     "type":"MD",
     "hide_input_from_viewers":false,
     "hide_output_from_viewers":false
    }
   }
  },
  {
   "cell_type":"markdown",
   "source":[
    "# This is Heading1"
   ],
   "attachments":{
    
   },
   "metadata":{
    "datalore":{
     "node_id":"88gbe6GnmWXZhla0oCFfzJ",
     "type":"MD",
     "hide_input_from_viewers":false,
     "hide_output_from_viewers":false
    }
   }
  },
  {
   "cell_type":"markdown",
   "source":[
    "## This is Heading2\n",
    "some grey colored text:\n",
    "\n",
    ">This is where we can bring quotes and present them nicely\n",
    "\n",
    "\n",
    "And this is a paragraph about something very important. Even math:\n",
    "                                  $$ y_{sub} = \\sqrt{x_{sub}} $$\n",
    "\n",
    "\n",
    "\n",
    "Or python code example:\n",
    "\n",
    "&nbsp;&nbsp;&nbsp;&nbsp;&nbsp;&nbsp;import math  \n",
    "&nbsp;&nbsp;&nbsp;&nbsp;&nbsp;&nbsp;def foo():    \n",
    "&nbsp;&nbsp;&nbsp;&nbsp;&nbsp;&nbsp;&nbsp;&nbsp;&nbsp;&nbsp;&nbsp;&nbsp;return \"foo\"\n"
   ],
   "attachments":{
    
   },
   "metadata":{
    "datalore":{
     "node_id":"E9V43msuuNQmKREmQgjkCi",
     "type":"MD",
     "hide_input_from_viewers":false,
     "hide_output_from_viewers":false
    }
   }
  },
  {
   "cell_type":"markdown",
   "source":[
    "&nbsp;&nbsp;&nbsp;&nbsp;&nbsp;&nbsp;&nbsp;&nbsp;&nbsp;&nbsp;&nbsp;&nbsp;&nbsp;&nbsp;&nbsp;&nbsp;&nbsp;&nbsp;&nbsp;&nbsp;&nbsp;&nbsp;&nbsp;&nbsp;&nbsp;&nbsp;&nbsp;&nbsp;&nbsp;&nbsp;&nbsp;&nbsp;&nbsp;&nbsp;&nbsp;&nbsp;&nbsp;&nbsp;&nbsp;&nbsp;&nbsp;&nbsp;&nbsp;&nbsp;&nbsp;&nbsp;&nbsp;&nbsp;&nbsp;&nbsp;&nbsp;&nbsp;&nbsp;&nbsp;&nbsp;&nbsp;&nbsp;&nbsp;&nbsp;&nbsp;&nbsp;&nbsp;&nbsp;&nbsp;&nbsp;&nbsp;&nbsp;&nbsp;&nbsp;&nbsp;&nbsp;&nbsp;Here is the sample mean:  \n",
    "$$ \\overline{\\rm y}  =  \\frac{1}{n}\\sum_{i=1}^{n} y_{i} $$"
   ],
   "attachments":{
    
   },
   "metadata":{
    "datalore":{
     "node_id":"ofWmyFiv4AnN8fJk63F3Ia",
     "type":"MD",
     "hide_input_from_viewers":false,
     "hide_output_from_viewers":false
    }
   }
  },
  {
   "cell_type":"markdown",
   "source":[
    "&nbsp;&nbsp;&nbsp;&nbsp;&nbsp;&nbsp;&nbsp;&nbsp;&nbsp;&nbsp;&nbsp;&nbsp;&nbsp;&nbsp;&nbsp;&nbsp;&nbsp;&nbsp;&nbsp;&nbsp;&nbsp;&nbsp;&nbsp;&nbsp;&nbsp;&nbsp;&nbsp;&nbsp;&nbsp;&nbsp;&nbsp;&nbsp;&nbsp;&nbsp;&nbsp;&nbsp;&nbsp;&nbsp;&nbsp;&nbsp;&nbsp;&nbsp;&nbsp;&nbsp;&nbsp;&nbsp;&nbsp;&nbsp;&nbsp;&nbsp;&nbsp;&nbsp;&nbsp;&nbsp;&nbsp;&nbsp;&nbsp;&nbsp;&nbsp;&nbsp;&nbsp;&nbsp;&nbsp;&nbsp;&nbsp;&nbsp;&nbsp;&nbsp;&nbsp;&nbsp;&nbsp;&nbsp;Here is the sample variance:\n",
    "$$\\sigma^2 =  \\frac{\\displaystyle\\sum_{i=1}^{n}(y_i - \\overline{\\rm y})^2} {n-1} $$"
   ],
   "attachments":{
    
   },
   "metadata":{
    "datalore":{
     "node_id":"GfsQfhFEHIh74hbnCrHHMq",
     "type":"MD",
     "hide_input_from_viewers":false,
     "hide_output_from_viewers":false
    }
   }
  },
  {
   "cell_type":"markdown",
   "source":[
    "&nbsp;&nbsp;&nbsp;&nbsp;&nbsp;&nbsp;&nbsp;&nbsp;&nbsp;&nbsp;&nbsp;&nbsp;&nbsp;&nbsp;&nbsp;&nbsp;&nbsp;&nbsp;&nbsp;&nbsp;&nbsp;&nbsp;&nbsp;&nbsp;&nbsp;&nbsp;&nbsp;&nbsp;&nbsp;&nbsp;&nbsp;&nbsp;&nbsp;&nbsp;&nbsp;&nbsp;&nbsp;&nbsp;&nbsp;&nbsp;&nbsp;&nbsp;&nbsp;&nbsp;&nbsp;&nbsp;&nbsp;&nbsp;&nbsp;&nbsp;&nbsp;&nbsp;&nbsp;&nbsp;&nbsp;&nbsp;&nbsp;&nbsp;&nbsp;&nbsp;&nbsp;&nbsp;&nbsp;&nbsp;&nbsp;&nbsp;&nbsp;&nbsp;&nbsp;&nbsp;&nbsp;&nbsp;&nbsp;Here is the sample standard deviation:\n",
    "\n",
    "$$ \\sigma = \\sqrt{\\frac{\\displaystyle\\sum_{i=1}^{n}(y_i - \\overline{\\rm y})^2} {n-1}}$$"
   ],
   "attachments":{
    
   },
   "metadata":{
    "datalore":{
     "node_id":"zR8V1x9gYNlPfwqnsoqDB8",
     "type":"MD",
     "hide_input_from_viewers":false,
     "hide_output_from_viewers":false
    }
   }
  }
 ],
 "metadata":{
  "kernelspec":{
   "display_name":"Python",
   "language":"python",
   "name":"python"
  },
  "datalore":{
   "version":1,
   "computation_mode":"JUPYTER",
   "package_manager":"pip",
   "base_environment":"default",
   "packages":[
    
   ]
  }
 },
 "nbformat":4,
 "nbformat_minor":4
}